{
 "cells": [
  {
   "cell_type": "markdown",
   "metadata": {},
   "source": [
    "## Program to convert decimal to binary using built-in function"
   ]
  },
  {
   "cell_type": "code",
   "execution_count": 1,
   "metadata": {},
   "outputs": [
    {
     "name": "stdout",
     "output_type": "stream",
     "text": [
      "Name- Aditya Motale\n",
      "01100100"
     ]
    }
   ],
   "source": [
    "print(\"Name- Aditya Motale\")\n",
    "def decimalToBinary(num):\n",
    "\n",
    "    if num >= 1:\n",
    "        decimalToBinary(num // 2)\n",
    "    print(num % 2, end='')\n",
    "\n",
    "\n",
    "decimalToBinary(100)"
   ]
  },
  {
   "cell_type": "markdown",
   "metadata": {},
   "source": [
    "## Write a python function to check whether a number is perfect or not."
   ]
  },
  {
   "cell_type": "code",
   "execution_count": 2,
   "metadata": {},
   "outputs": [
    {
     "name": "stdout",
     "output_type": "stream",
     "text": [
      "Name- Aditya Motale\n",
      "The number is not a Perfect number!\n"
     ]
    }
   ],
   "source": [
    "print(\"Name- Aditya Motale\")\n",
    "n = int(input(\"Enter any number: \"))\n",
    "sum1 = 0\n",
    "for i in range(1, n):\n",
    "    if(n % i == 0):\n",
    "        sum1 = sum1 + i\n",
    "if (sum1 == n):\n",
    "    print(\"The number is a Perfect number!\")\n",
    "else:\n",
    "    print(\"The number is not a Perfect number!\")\n"
   ]
  },
  {
   "cell_type": "markdown",
   "metadata": {},
   "source": [
    "## Write a python function to display Fibonacci series up-to n terms"
   ]
  },
  {
   "cell_type": "code",
   "execution_count": 3,
   "metadata": {},
   "outputs": [
    {
     "name": "stdout",
     "output_type": "stream",
     "text": [
      "Name- Aditya Motale\n",
      "[0, 3, 5, 6, 1, 1, 2, 3, 5, 8, 13, 21, 34, 55, 89, 144, 233]\n"
     ]
    }
   ],
   "source": [
    "print(\"Name- Aditya Motale\")\n",
    "def findFibonacciSeries(num):\n",
    "\n",
    "    series = [0, 3, 5, 6]\n",
    "    n = 1\n",
    "    n1 = 0\n",
    "    n2 = 1\n",
    "    while n <= num:\n",
    "        n = n1 + n2\n",
    "        n1 = n2\n",
    "        series.append(n1)\n",
    "        n2 = n\n",
    "    print(series)\n",
    "\n",
    "\n",
    "findFibonacciSeries(234)"
   ]
  },
  {
   "cell_type": "markdown",
   "metadata": {},
   "source": [
    "## Write a python function to find factorial of a number with and without recursion."
   ]
  },
  {
   "cell_type": "code",
   "execution_count": 4,
   "metadata": {},
   "outputs": [
    {
     "name": "stdout",
     "output_type": "stream",
     "text": [
      "Name- Aditya Motale\n",
      "factorial is 479001600 without recursion\n"
     ]
    },
    {
     "data": {
      "text/plain": [
       "479001600"
      ]
     },
     "execution_count": 4,
     "metadata": {},
     "output_type": "execute_result"
    }
   ],
   "source": [
    "print(\"Name- Aditya Motale\")\n",
    "def findFactorial(num):\n",
    "    factorial = 1\n",
    "    for i in range(1, num + 1):\n",
    "        factorial = factorial * i\n",
    "    print(\"factorial is\", factorial, \"without recursion\")\n",
    "\n",
    "# Factorial of a number using recursion\n",
    "\n",
    "\n",
    "def recur_factorial(n):\n",
    "   if n != 1:\n",
    "       return n*recur_factorial(n-1)\n",
    "   return n\n",
    "\n",
    "num2 = 12\n",
    "findFactorial(num2)\n",
    "recur_factorial(num2)\n"
   ]
  }
 ],
 "metadata": {
  "kernelspec": {
   "display_name": "Python 3.8.10 64-bit (windows store)",
   "language": "python",
   "name": "python3"
  },
  "language_info": {
   "codemirror_mode": {
    "name": "ipython",
    "version": 3
   },
   "file_extension": ".py",
   "mimetype": "text/x-python",
   "name": "python",
   "nbconvert_exporter": "python",
   "pygments_lexer": "ipython3",
   "version": "3.8.10"
  },
  "orig_nbformat": 4,
  "vscode": {
   "interpreter": {
    "hash": "ac4bf51aad2b6257eb3b8d9b68fccd0a6850f0623baea5d87ff3dc3e173853f7"
   }
  }
 },
 "nbformat": 4,
 "nbformat_minor": 2
}
