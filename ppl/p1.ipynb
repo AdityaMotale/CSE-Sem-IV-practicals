{
 "cells": [
  {
   "cell_type": "markdown",
   "metadata": {},
   "source": [
    "## Program for simple calculator by taking input from user.\n"
   ]
  },
  {
   "cell_type": "code",
   "execution_count": 1,
   "metadata": {},
   "outputs": [
    {
     "name": "stdout",
     "output_type": "stream",
     "text": [
      "Name- Aditya Motale\n",
      "Select operation.\n",
      "1.Add\n",
      "2.Subtract\n",
      "3.Multiply\n",
      "4.Divide\n",
      "23.0 - 45.0 = -22.0\n"
     ]
    }
   ],
   "source": [
    "print(\"Name- Aditya Motale\")\n",
    "def add(x, y):\n",
    "    return x + y\n",
    "\n",
    "\n",
    "def subtract(x, y):\n",
    "    return x - y\n",
    "\n",
    "\n",
    "def multiply(x, y):\n",
    "    return x * y\n",
    "\n",
    "\n",
    "def divide(x, y):\n",
    "    return x / y\n",
    "\n",
    "\n",
    "print(\"Select operation.\")\n",
    "print(\"1.Add\")\n",
    "print(\"2.Subtract\")\n",
    "print(\"3.Multiply\")\n",
    "print(\"4.Divide\")\n",
    "\n",
    "while True:\n",
    "    choice = input(\"Enter choice(1/2/3/4): \")\n",
    "\n",
    "    if choice in ('1', '2', '3', '4'):\n",
    "        num1 = float(input(\"Enter first number: \"))\n",
    "        num2 = float(input(\"Enter second number: \"))\n",
    "\n",
    "        if choice == '1':\n",
    "            print(num1, \"+\", num2, \"=\", add(num1, num2))\n",
    "\n",
    "        elif choice == '2':\n",
    "            print(num1, \"-\", num2, \"=\", subtract(num1, num2))\n",
    "\n",
    "        elif choice == '3':\n",
    "            print(num1, \"*\", num2, \"=\", multiply(num1, num2))\n",
    "\n",
    "        elif choice == '4':\n",
    "            print(num1, \"/\", num2, \"=\", divide(num1, num2))\n",
    "\n",
    "        next_calculation = input(\"Let's do next calculation? (yes/no): \")\n",
    "        if next_calculation == \"no\":\n",
    "            break\n",
    "\n",
    "    else:\n",
    "        print(\"Invalid Input\")\n"
   ]
  },
  {
   "cell_type": "markdown",
   "metadata": {},
   "source": [
    "## Program to show use of bitwise AND, OR, NOT, XOR, right shift and left shift operations.\n"
   ]
  },
  {
   "cell_type": "code",
   "execution_count": 2,
   "metadata": {},
   "outputs": [
    {
     "name": "stdout",
     "output_type": "stream",
     "text": [
      "Name- Aditya Motale\n",
      "And operator overloaded\n",
      "8\n",
      "Or operator overloaded\n",
      "14\n",
      "Xor operator overloaded\n",
      "6\n",
      "lshift operator overloaded\n",
      "40960\n",
      "rshift operator overloaded\n",
      "8\n",
      "Invert operator overloaded\n",
      "-11\n"
     ]
    }
   ],
   "source": [
    "print(\"Name- Aditya Motale\")\n",
    "class Operations():\n",
    "    def __init__(self, value):\n",
    "        self.value = value\n",
    "\n",
    "    def __and__(self, obj):\n",
    "        print(\"And operator overloaded\")\n",
    "        if isinstance(obj, Operations):\n",
    "            return self.value & obj.value\n",
    "        else:\n",
    "            raise ValueError(\"Must be a valid object\")\n",
    "\n",
    "    def __or__(self, obj):\n",
    "        print(\"Or operator overloaded\")\n",
    "        if isinstance(obj, Operations):\n",
    "            return self.value | obj.value\n",
    "        else:\n",
    "            raise ValueError(\"Must be a valid object\")\n",
    "\n",
    "    def __xor__(self, obj):\n",
    "        print(\"Xor operator overloaded\")\n",
    "        if isinstance(obj, Operations):\n",
    "            return self.value ^ obj.value\n",
    "        else:\n",
    "            raise ValueError(\"Must be a valid object\")\n",
    "\n",
    "    def __lshift__(self, obj):\n",
    "        print(\"lshift operator overloaded\")\n",
    "        if isinstance(obj, Operations):\n",
    "            return self.value << obj.value\n",
    "        else:\n",
    "            raise ValueError(\"Must be a valid object\")\n",
    "\n",
    "    def __rshift__(self, obj):\n",
    "        print(\"rshift operator overloaded\")\n",
    "        if isinstance(obj, Operations):\n",
    "            return self.value & obj.value\n",
    "        else:\n",
    "            raise ValueError(\"Must be a valid object\")\n",
    "\n",
    "    def __invert__(self):\n",
    "        print(\"Invert operator overloaded\")\n",
    "        return ~self.value\n",
    "\n",
    "\n",
    "if __name__ == \"__main__\":\n",
    "    a = Operations(10)\n",
    "    b = Operations(12)\n",
    "    print(a & b)\n",
    "    print(a | b)\n",
    "    print(a ^ b)\n",
    "    print(a << b)\n",
    "    print(a >> b)\n",
    "    print(~a)\n"
   ]
  },
  {
   "cell_type": "markdown",
   "metadata": {},
   "source": [
    "## Program to calculate area of circle, triangle, rectangle and square.\n"
   ]
  },
  {
   "cell_type": "code",
   "execution_count": 3,
   "metadata": {},
   "outputs": [
    {
     "name": "stdout",
     "output_type": "stream",
     "text": [
      "Name- Aditya Motale\n",
      "Area of a Rectangle is: 48.00\n",
      "Area of a circle = 3629.84\n"
     ]
    }
   ],
   "source": [
    "print(\"Name- Aditya Motale\")\n",
    "def AreaOfRectangle(width, height):\n",
    "    Area = width * height\n",
    "    print(\"Area of a Rectangle is: %.2f\" % Area)\n",
    "\n",
    "\n",
    "AreaOfRectangle(8, 6)\n",
    "\n",
    "PI = 3.14\n",
    "r = float(input(\"Enter the radius of a circle:\"))\n",
    "area = PI * r * r\n",
    "print(\"Area of a circle = %.2f\" % area)\n"
   ]
  }
 ],
 "metadata": {
  "kernelspec": {
   "display_name": "Python 3.8.10 64-bit (windows store)",
   "language": "python",
   "name": "python3"
  },
  "language_info": {
   "codemirror_mode": {
    "name": "ipython",
    "version": 3
   },
   "file_extension": ".py",
   "mimetype": "text/x-python",
   "name": "python",
   "nbconvert_exporter": "python",
   "pygments_lexer": "ipython3",
   "version": "3.8.10"
  },
  "orig_nbformat": 4,
  "vscode": {
   "interpreter": {
    "hash": "ac4bf51aad2b6257eb3b8d9b68fccd0a6850f0623baea5d87ff3dc3e173853f7"
   }
  }
 },
 "nbformat": 4,
 "nbformat_minor": 2
}
