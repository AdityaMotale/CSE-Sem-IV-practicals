{
 "cells": [
  {
   "cell_type": "markdown",
   "metadata": {},
   "source": [
    "## Program to check whether two strings are same or not."
   ]
  },
  {
   "cell_type": "code",
   "execution_count": 1,
   "metadata": {},
   "outputs": [
    {
     "name": "stdout",
     "output_type": "stream",
     "text": [
      "Name- Aditya Motale\n",
      "String are equal\n"
     ]
    }
   ],
   "source": [
    "print(\"Name- Aditya Motale\")\n",
    "str_1 = \"python\"\n",
    "str_2 = \"Python\"\n",
    "\n",
    "print(\"String are equal\") if sorted(str_1) == sorted(\n",
    "    str_2) else print(\"String are equal\")\n"
   ]
  },
  {
   "cell_type": "markdown",
   "metadata": {},
   "source": [
    "## Program to check if a substring is present in given string."
   ]
  },
  {
   "cell_type": "code",
   "execution_count": 2,
   "metadata": {},
   "outputs": [
    {
     "name": "stdout",
     "output_type": "stream",
     "text": [
      "Name- Aditya Motale\n",
      "String found\n"
     ]
    }
   ],
   "source": [
    "print(\"Name- Aditya Motale\")\n",
    "quote = \"Dream won't work unless you do\"\n",
    "str_3 = \"you\"\n",
    "\n",
    "list_1 = quote.split()\n",
    "\n",
    "print(\"String found\") if str_3 in list_1 else print(\"Not found\")"
   ]
  },
  {
   "cell_type": "markdown",
   "metadata": {},
   "source": [
    "## Program to count the occurrences of each word in given string sentence. "
   ]
  },
  {
   "cell_type": "code",
   "execution_count": 3,
   "metadata": {},
   "outputs": [
    {
     "name": "stdout",
     "output_type": "stream",
     "text": [
      "Name- Aditya Motale\n"
     ]
    },
    {
     "data": {
      "text/plain": [
       "{'You': 1,\n",
       " 'either': 1,\n",
       " 'die': 1,\n",
       " 'as': 1,\n",
       " 'a': 2,\n",
       " 'hero': 1,\n",
       " 'or': 1,\n",
       " 'live': 1,\n",
       " 'long': 1,\n",
       " 'enough': 1,\n",
       " 'to': 1,\n",
       " 'see': 1,\n",
       " 'yourself': 1,\n",
       " 'becoming': 1,\n",
       " 'villain.': 1}"
      ]
     },
     "execution_count": 3,
     "metadata": {},
     "output_type": "execute_result"
    }
   ],
   "source": [
    "print(\"Name- Aditya Motale\")\n",
    "def word_count(str):\n",
    "    counts = dict()\n",
    "    words = str.split()\n",
    "\n",
    "    for word in words:\n",
    "        if word in counts:\n",
    "            counts[word] += 1\n",
    "        else:\n",
    "            counts[word] = 1\n",
    "\n",
    "    return counts\n",
    "\n",
    "word_count('You either die as a hero or live long enough to see yourself becoming a villain.')"
   ]
  }
 ],
 "metadata": {
  "kernelspec": {
   "display_name": "Python 3.8.10 64-bit (windows store)",
   "language": "python",
   "name": "python3"
  },
  "language_info": {
   "codemirror_mode": {
    "name": "ipython",
    "version": 3
   },
   "file_extension": ".py",
   "mimetype": "text/x-python",
   "name": "python",
   "nbconvert_exporter": "python",
   "pygments_lexer": "ipython3",
   "version": "3.8.10"
  },
  "orig_nbformat": 4,
  "vscode": {
   "interpreter": {
    "hash": "ac4bf51aad2b6257eb3b8d9b68fccd0a6850f0623baea5d87ff3dc3e173853f7"
   }
  }
 },
 "nbformat": 4,
 "nbformat_minor": 2
}
