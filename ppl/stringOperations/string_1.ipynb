{
 "cells": [
  {
   "cell_type": "markdown",
   "metadata": {},
   "source": [
    "## A program to check if entered strings are similar or not"
   ]
  },
  {
   "cell_type": "markdown",
   "metadata": {},
   "source": [
    "### Taking input of two strings"
   ]
  },
  {
   "cell_type": "code",
   "execution_count": 45,
   "metadata": {},
   "outputs": [],
   "source": [
    "str_1 = input(\"Enter name 1\")\n",
    "str_2 = input(\"Enter name 2\")"
   ]
  },
  {
   "cell_type": "markdown",
   "metadata": {},
   "source": [
    "### Checking if the entered strings are same by default or not"
   ]
  },
  {
   "cell_type": "code",
   "execution_count": 46,
   "metadata": {},
   "outputs": [
    {
     "name": "stdout",
     "output_type": "stream",
     "text": [
      "Both the strings are not same\n"
     ]
    },
    {
     "data": {
      "text/plain": [
       "('text', 'texty')"
      ]
     },
     "execution_count": 46,
     "metadata": {},
     "output_type": "execute_result"
    }
   ],
   "source": [
    "if (str_1 == str_2):\n",
    "    print(\"Both the strings are same\")\n",
    "else:\n",
    "    print(\"Both the strings are not same\")\n",
    "\n",
    "str_1, str_2\n"
   ]
  },
  {
   "cell_type": "markdown",
   "metadata": {},
   "source": [
    "### Converting both of the strings into lower case and then checking if they're same"
   ]
  },
  {
   "cell_type": "code",
   "execution_count": 47,
   "metadata": {},
   "outputs": [
    {
     "name": "stdout",
     "output_type": "stream",
     "text": [
      "Both the strings are not same\n"
     ]
    },
    {
     "data": {
      "text/plain": [
       "('text', 'texty')"
      ]
     },
     "execution_count": 47,
     "metadata": {},
     "output_type": "execute_result"
    }
   ],
   "source": [
    "str_1 = str_1.lower()\n",
    "str_2 = str_2.lower()\n",
    "if (str_1 == str_2):\n",
    "    print(\"Both the strings are same\")\n",
    "else:\n",
    "    print(\"Both the strings are not same\")\n",
    "\n",
    "str_1, str_2\n"
   ]
  },
  {
   "cell_type": "markdown",
   "metadata": {},
   "source": [
    "### Converting both of the strings into capital case and then checking if they're same"
   ]
  },
  {
   "cell_type": "code",
   "execution_count": 48,
   "metadata": {},
   "outputs": [
    {
     "name": "stdout",
     "output_type": "stream",
     "text": [
      "Both the strings are not same\n"
     ]
    },
    {
     "data": {
      "text/plain": [
       "('Text', 'Texty')"
      ]
     },
     "execution_count": 48,
     "metadata": {},
     "output_type": "execute_result"
    }
   ],
   "source": [
    "str_1 = str_1.capitalize()\n",
    "str_2 = str_2.capitalize()\n",
    "if (str_1 == str_2):\n",
    "    print(\"Both the strings are same\")\n",
    "else:\n",
    "    print(\"Both the strings are not same\")\n",
    "str_1, str_2"
   ]
  },
  {
   "cell_type": "markdown",
   "metadata": {},
   "source": [
    "## A program to check whether a substring is present in a given string or not"
   ]
  },
  {
   "cell_type": "code",
   "execution_count": 51,
   "metadata": {},
   "outputs": [
    {
     "name": "stdout",
     "output_type": "stream",
     "text": [
      "found!\n"
     ]
    },
    {
     "data": {
      "text/plain": [
       "'Text'"
      ]
     },
     "execution_count": 51,
     "metadata": {},
     "output_type": "execute_result"
    }
   ],
   "source": [
    "\n",
    "if (str_1.find(\"Text\") == 0):\n",
    "    print(\"found!\")\n",
    "else :\n",
    "    print(\"Not Found!\")\n",
    "str_1"
   ]
  }
 ],
 "metadata": {
  "interpreter": {
   "hash": "b4c01c8f52586033bb4bb2bf4f864991e275e728809d596b5bf2a750c26b84f7"
  },
  "kernelspec": {
   "display_name": "Python 3.8.10 64-bit",
   "language": "python",
   "name": "python3"
  },
  "language_info": {
   "codemirror_mode": {
    "name": "ipython",
    "version": 3
   },
   "file_extension": ".py",
   "mimetype": "text/x-python",
   "name": "python",
   "nbconvert_exporter": "python",
   "pygments_lexer": "ipython3",
   "version": "3.8.10"
  },
  "orig_nbformat": 4
 },
 "nbformat": 4,
 "nbformat_minor": 2
}
