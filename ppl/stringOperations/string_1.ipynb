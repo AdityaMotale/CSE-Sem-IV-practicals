{
 "cells": [
  {
   "cell_type": "markdown",
   "metadata": {},
   "source": [
    "## A program to check if entered strings are similar or not"
   ]
  },
  {
   "cell_type": "markdown",
   "metadata": {},
   "source": [
    "### Taking input of two strings"
   ]
  },
  {
   "cell_type": "code",
   "execution_count": 65,
   "metadata": {},
   "outputs": [],
   "source": [
    "str_1 = input(\"Enter name 1\")\n",
    "str_2 = input(\"Enter name 2\")"
   ]
  },
  {
   "cell_type": "markdown",
   "metadata": {},
   "source": [
    "### Checking if the entered strings are same by default or not"
   ]
  },
  {
   "cell_type": "code",
   "execution_count": 67,
   "metadata": {},
   "outputs": [
    {
     "name": "stdout",
     "output_type": "stream",
     "text": [
      "Both the strings are not same\n"
     ]
    },
    {
     "data": {
      "text/plain": [
       "('text', 'Text')"
      ]
     },
     "execution_count": 67,
     "metadata": {},
     "output_type": "execute_result"
    }
   ],
   "source": [
    "if (str_1 == str_2):\n",
    "    print(\"Both the strings are same\")\n",
    "else:\n",
    "    print(\"Both the strings are not same\")\n",
    "\n",
    "str_1, str_2\n"
   ]
  },
  {
   "cell_type": "markdown",
   "metadata": {},
   "source": [
    "### Converting both of the strings into lower case and then checking if they're same"
   ]
  },
  {
   "cell_type": "code",
   "execution_count": 70,
   "metadata": {},
   "outputs": [
    {
     "name": "stdout",
     "output_type": "stream",
     "text": [
      "Both the strings are same\n"
     ]
    },
    {
     "data": {
      "text/plain": [
       "('text', 'text')"
      ]
     },
     "execution_count": 70,
     "metadata": {},
     "output_type": "execute_result"
    }
   ],
   "source": [
    "str_1 = str_1.lower()\n",
    "str_2 = str_2.lower()\n",
    "if (str_1 == str_2):\n",
    "    print(\"Both the strings are same\")\n",
    "else:\n",
    "    print(\"Both the strings are not same\")\n",
    "\n",
    "str_1, str_2\n"
   ]
  },
  {
   "cell_type": "markdown",
   "metadata": {},
   "source": [
    "### Converting both of the strings into capital case and then checking if they're same"
   ]
  },
  {
   "cell_type": "code",
   "execution_count": 71,
   "metadata": {},
   "outputs": [
    {
     "name": "stdout",
     "output_type": "stream",
     "text": [
      "Both the strings are same\n"
     ]
    },
    {
     "data": {
      "text/plain": [
       "('Text', 'Text')"
      ]
     },
     "execution_count": 71,
     "metadata": {},
     "output_type": "execute_result"
    }
   ],
   "source": [
    "str_1 = str_1.capitalize()\n",
    "str_2 = str_2.capitalize()\n",
    "if (str_1 == str_2):\n",
    "    print(\"Both the strings are same\")\n",
    "else:\n",
    "    print(\"Both the strings are not same\")\n",
    "str_1, str_2"
   ]
  },
  {
   "cell_type": "markdown",
   "metadata": {},
   "source": [
    "## A program to check whether a substring is present in a given string or not"
   ]
  },
  {
   "cell_type": "code",
   "execution_count": 72,
   "metadata": {},
   "outputs": [
    {
     "name": "stdout",
     "output_type": "stream",
     "text": [
      "found!\n"
     ]
    },
    {
     "data": {
      "text/plain": [
       "'Text'"
      ]
     },
     "execution_count": 72,
     "metadata": {},
     "output_type": "execute_result"
    }
   ],
   "source": [
    "\n",
    "if (str_1.find(\"Text\") == 0):\n",
    "    print(\"found!\")\n",
    "else :\n",
    "    print(\"Not Found!\")\n",
    "str_1"
   ]
  },
  {
   "cell_type": "markdown",
   "metadata": {},
   "source": [
    "## Program to count the occurrences of each word in a given string"
   ]
  },
  {
   "cell_type": "code",
   "execution_count": 52,
   "metadata": {},
   "outputs": [
    {
     "data": {
      "text/plain": [
       "1"
      ]
     },
     "execution_count": 52,
     "metadata": {},
     "output_type": "execute_result"
    }
   ],
   "source": [
    "str_1.count(\"t\")"
   ]
  },
  {
   "cell_type": "code",
   "execution_count": 58,
   "metadata": {},
   "outputs": [],
   "source": [
    "text_1 = input(\"Enter a long text\")\n",
    "word = input(\"Which word do you want to find the duplicate of\")\n"
   ]
  },
  {
   "cell_type": "code",
   "execution_count": 64,
   "metadata": {},
   "outputs": [
    {
     "data": {
      "text/plain": [
       "(3, 3, ['some', 'long', 'text,', 'with', 'long', 'and', 'long', \"long's\"])"
      ]
     },
     "execution_count": 64,
     "metadata": {},
     "output_type": "execute_result"
    }
   ],
   "source": [
    "listOfChar, count = [], 0\n",
    "listOfChar = text_1.split(\" \")\n",
    "\n",
    "for n in listOfChar:\n",
    "    if word == n:\n",
    "        count = count + 1\n",
    "\n",
    "count, listOfChar.count(word), listOfChar\n"
   ]
  },
  {
   "cell_type": "markdown",
   "metadata": {},
   "source": [
    "## Program to create list of names and add only those names which do not have character \"A\" in them"
   ]
  },
  {
   "cell_type": "code",
   "execution_count": 81,
   "metadata": {},
   "outputs": [],
   "source": [
    "listOfNames, listOfNames_withA, listOfNames_withoutA = [], [], []\n",
    "for n in range(5):\n",
    "    n = input(\"Enter name:\")\n",
    "    listOfNames.append(n)"
   ]
  },
  {
   "cell_type": "code",
   "execution_count": 82,
   "metadata": {},
   "outputs": [
    {
     "data": {
      "text/plain": [
       "(['adii', 'text1', 'text2', 'atharva', 'ishan'],\n",
       " ['adii', 'atharva'],\n",
       " ['text1', 'text2', 'ishan'])"
      ]
     },
     "execution_count": 82,
     "metadata": {},
     "output_type": "execute_result"
    }
   ],
   "source": [
    "for n in listOfNames:\n",
    "    if (n.lower().find(\"a\") == 0):\n",
    "        listOfNames_withA.append(n)\n",
    "    else:\n",
    "        listOfNames_withoutA.append(n)\n",
    "        \n",
    "\n",
    "listOfNames, listOfNames_withA, listOfNames_withoutA"
   ]
  },
  {
   "cell_type": "markdown",
   "metadata": {},
   "source": [
    "## Converting two `tuples` in to a `dictionary`"
   ]
  },
  {
   "cell_type": "code",
   "execution_count": 85,
   "metadata": {},
   "outputs": [
    {
     "data": {
      "text/plain": [
       "([('A11', 'pencils'), ('A12', 'noteBooks'), ('A13', 'textBooks')],\n",
       " (('A11', 'pencils'), ('A12', 'noteBooks'), ('A13', 'textBooks')),\n",
       " {('A11', 'pencils'), ('A12', 'noteBooks'), ('A13', 'textBooks')},\n",
       " {'A11': 'pencils', 'A12': 'noteBooks', 'A13': 'textBooks'})"
      ]
     },
     "execution_count": 85,
     "metadata": {},
     "output_type": "execute_result"
    }
   ],
   "source": [
    "product_ids = (\"A11\", \"A12\", \"A13\")\n",
    "product_names = (\"pencils\", \"noteBooks\", \"textBooks\")\n",
    "w = list(zip(product_ids, product_names))\n",
    "x = tuple(zip(product_ids1, product_names1))\n",
    "y = set(zip(product_ids1, product_names1))\n",
    "z = dict(zip(product_ids1, product_names1))\n",
    "\n",
    "w, x, y, z\n"
   ]
  }
 ],
 "metadata": {
  "interpreter": {
   "hash": "b4c01c8f52586033bb4bb2bf4f864991e275e728809d596b5bf2a750c26b84f7"
  },
  "kernelspec": {
   "display_name": "Python 3.8.10 64-bit",
   "language": "python",
   "name": "python3"
  },
  "language_info": {
   "codemirror_mode": {
    "name": "ipython",
    "version": 3
   },
   "file_extension": ".py",
   "mimetype": "text/x-python",
   "name": "python",
   "nbconvert_exporter": "python",
   "pygments_lexer": "ipython3",
   "version": "3.8.10"
  },
  "orig_nbformat": 4
 },
 "nbformat": 4,
 "nbformat_minor": 2
}
