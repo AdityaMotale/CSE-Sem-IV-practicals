{
 "cells": [
  {
   "cell_type": "markdown",
   "metadata": {},
   "source": [
    "## Program to create file and add some text by user input"
   ]
  },
  {
   "cell_type": "code",
   "execution_count": 8,
   "metadata": {},
   "outputs": [],
   "source": [
    "file = open(\"p10.txt\", \"w+\")\n",
    "\n",
    "text_1 = input(\"Enter text to write in the file: \")\n",
    "\n",
    "file.write(text_1)\n",
    "\n",
    "file.close()"
   ]
  },
  {
   "cell_type": "markdown",
   "metadata": {},
   "source": [
    "## Program to count total number of words in given file."
   ]
  },
  {
   "cell_type": "code",
   "execution_count": 9,
   "metadata": {},
   "outputs": [
    {
     "data": {
      "text/plain": [
       "19"
      ]
     },
     "execution_count": 9,
     "metadata": {},
     "output_type": "execute_result"
    }
   ],
   "source": [
    "file = open(\".\\p10.txt\", \"r\")\n",
    "data = file.read().split()\n",
    "file.close()\n",
    "\n",
    "len(data)"
   ]
  },
  {
   "cell_type": "markdown",
   "metadata": {},
   "source": [
    "## Program to read a file and capitalize the first letter of every word in the file."
   ]
  },
  {
   "cell_type": "code",
   "execution_count": 12,
   "metadata": {},
   "outputs": [
    {
     "name": "stdout",
     "output_type": "stream",
     "text": [
      "To Be Yourself In A World That Is Constantly Trying To Make You Something Else Is The Greatest Accomplishment.\n"
     ]
    }
   ],
   "source": [
    "file = open(\".\\p10.txt\", \"r\")\n",
    "\n",
    "for line in file:\n",
    "    titled_line = line.title()\n",
    "    print(titled_line)\n",
    "\n",
    "file.close()"
   ]
  }
 ],
 "metadata": {
  "kernelspec": {
   "display_name": "Python 3.8.10 64-bit (windows store)",
   "language": "python",
   "name": "python3"
  },
  "language_info": {
   "codemirror_mode": {
    "name": "ipython",
    "version": 3
   },
   "file_extension": ".py",
   "mimetype": "text/x-python",
   "name": "python",
   "nbconvert_exporter": "python",
   "pygments_lexer": "ipython3",
   "version": "3.8.10"
  },
  "orig_nbformat": 4,
  "vscode": {
   "interpreter": {
    "hash": "ac4bf51aad2b6257eb3b8d9b68fccd0a6850f0623baea5d87ff3dc3e173853f7"
   }
  }
 },
 "nbformat": 4,
 "nbformat_minor": 2
}
