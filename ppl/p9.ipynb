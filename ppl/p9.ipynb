{
 "cells": [
  {
   "cell_type": "markdown",
   "metadata": {},
   "source": [
    "## Create a class person and initialize name to user entered value. Also, add a function to greet user with their name.\n"
   ]
  },
  {
   "cell_type": "code",
   "execution_count": 1,
   "metadata": {},
   "outputs": [
    {
     "name": "stdout",
     "output_type": "stream",
     "text": [
      "Name- Aditya Motale\n",
      "Hello and welcome adii! Happy birthday in advance for your birthday at 22 March\n"
     ]
    }
   ],
   "source": [
    "import datetime\n",
    "import calendar\n",
    "print(\"Name- Aditya Motale\")\n",
    "\n",
    "class Person:\n",
    "\n",
    "    def __init__(self, name, birthdate):\n",
    "        self.name = name\n",
    "        self.birthdate = birthdate\n",
    "\n",
    "    def greet(self):\n",
    "        print(\"Hello and welcome \" + self.name + \"!\" + \" Happy birthday in advance for your birthday at\",\n",
    "              self.birthdate.day, calendar.month_name[self.birthdate.month])\n",
    "\n",
    "\n",
    "person_1 = Person(name=\"adii\", birthdate=datetime.date(2002, 3, 22))\n",
    "person_1.greet()\n"
   ]
  },
  {
   "cell_type": "markdown",
   "metadata": {},
   "source": [
    "## Compute the diameter, circumference, and volume of a sphere using class.\n"
   ]
  },
  {
   "cell_type": "code",
   "execution_count": 2,
   "metadata": {},
   "outputs": [
    {
     "name": "stdout",
     "output_type": "stream",
     "text": [
      "Name- Aditya Motale\n"
     ]
    },
    {
     "data": {
      "text/plain": [
       "(8, 50.24, 267.94666666666666)"
      ]
     },
     "execution_count": 2,
     "metadata": {},
     "output_type": "execute_result"
    }
   ],
   "source": [
    "print(\"Name- Aditya Motale\")\n",
    "PI = 3.14\n",
    "\n",
    "class Sphere:\n",
    "\n",
    "    def __init__(self, radius):\n",
    "        self.radius = radius\n",
    "\n",
    "    def getDiameter(self):\n",
    "        return self.radius*2\n",
    "\n",
    "    def getCircumference(self):\n",
    "        return PI*(self.radius**2)\n",
    "\n",
    "    def getVolume(self):\n",
    "        return (4 / 3) * PI * self.radius**3\n",
    "\n",
    "\n",
    "sphere_1 = Sphere(radius=4)\n",
    "\n",
    "sphere_1.getDiameter(), sphere_1.getCircumference(), sphere_1.getVolume()\n"
   ]
  }
 ],
 "metadata": {
  "kernelspec": {
   "display_name": "Python 3.8.10 64-bit (windows store)",
   "language": "python",
   "name": "python3"
  },
  "language_info": {
   "codemirror_mode": {
    "name": "ipython",
    "version": 3
   },
   "file_extension": ".py",
   "mimetype": "text/x-python",
   "name": "python",
   "nbconvert_exporter": "python",
   "pygments_lexer": "ipython3",
   "version": "3.8.10"
  },
  "orig_nbformat": 4,
  "vscode": {
   "interpreter": {
    "hash": "ac4bf51aad2b6257eb3b8d9b68fccd0a6850f0623baea5d87ff3dc3e173853f7"
   }
  }
 },
 "nbformat": 4,
 "nbformat_minor": 2
}
