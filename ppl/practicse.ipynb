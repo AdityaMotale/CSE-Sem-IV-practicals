{
 "cells": [
  {
   "cell_type": "markdown",
   "metadata": {},
   "source": [
    "## Basics"
   ]
  },
  {
   "cell_type": "markdown",
   "metadata": {},
   "source": [
    "## Calculate the area of triangle, rectangle and circle"
   ]
  },
  {
   "cell_type": "code",
   "execution_count": 16,
   "metadata": {},
   "outputs": [
    {
     "data": {
      "text/plain": [
       "28.26"
      ]
     },
     "execution_count": 16,
     "metadata": {},
     "output_type": "execute_result"
    }
   ],
   "source": [
    "r = float(input(\"Enter radius value: \"))\n",
    "area = 3.14 * r*r\n",
    "area\n"
   ]
  },
  {
   "cell_type": "markdown",
   "metadata": {},
   "source": [
    "## Program to find the Union of two list"
   ]
  },
  {
   "cell_type": "code",
   "execution_count": 18,
   "metadata": {},
   "outputs": [
    {
     "data": {
      "text/plain": [
       "{1, 2, 3, 4, 5, 6, 8, 10}"
      ]
     },
     "execution_count": 18,
     "metadata": {},
     "output_type": "execute_result"
    }
   ],
   "source": [
    "list1 = [1,2,3,4,5]\n",
    "list2 = [2,4,6,8,10]\n",
    "\n",
    "set1 = set(list1)\n",
    "set2 = set(list2)\n",
    "\n",
    "union = set1.union(set2)\n",
    "union\n"
   ]
  },
  {
   "cell_type": "markdown",
   "metadata": {},
   "source": [
    "## Program to find intersection of two list"
   ]
  },
  {
   "cell_type": "code",
   "execution_count": 23,
   "metadata": {},
   "outputs": [
    {
     "data": {
      "text/plain": [
       "{2, 4}"
      ]
     },
     "execution_count": 23,
     "metadata": {},
     "output_type": "execute_result"
    }
   ],
   "source": [
    "list1 = [1, 2, 3, 4, 5]\n",
    "list2 = [2, 4, 6, 8, 10]\n",
    "\n",
    "set1 = set(list1)\n",
    "set2 = set(list2)\n",
    "\n",
    "intersection = set1 & set2\n",
    "intersection"
   ]
  },
  {
   "cell_type": "markdown",
   "metadata": {},
   "source": [
    "## Program to remove the ith occurrence from the list"
   ]
  },
  {
   "cell_type": "code",
   "execution_count": 28,
   "metadata": {},
   "outputs": [
    {
     "name": "stdout",
     "output_type": "stream",
     "text": [
      "The number of repetitions is:  3\n",
      "Updated list is:  ['adii', 'atharva', 'adii']\n",
      "The distinct elements are:  {'atharva', 'adii'}\n"
     ]
    }
   ],
   "source": [
    "a = [\"adii\", \"atharva\", \"adii\", \"adii\"]\n",
    "\n",
    "c=[]\n",
    "count=0\n",
    "\n",
    "b=input(\"Enter word to remove: \")\n",
    "n=int(input(\"Enter the occurrence to remove: \"))\n",
    "\n",
    "\n",
    "for i in a:\n",
    "    if(i==b):\n",
    "        count=count+1\n",
    "        if(count!=n):\n",
    "            c.append(i)\n",
    "    else:\n",
    "        c.append(i)\n",
    "\n",
    "        \n",
    "if(count==0):\n",
    "    print(\"Item not found \")\n",
    "else: \n",
    "    print(\"The number of repetitions is: \",count)\n",
    "    print(\"Updated list is: \",c)\n",
    "    print(\"The distinct elements are: \",set(a))"
   ]
  },
  {
   "cell_type": "code",
   "execution_count": 26,
   "metadata": {},
   "outputs": [
    {
     "data": {
      "text/plain": [
       "['3', '5', '4', '3', '5', '5']"
      ]
     },
     "execution_count": 26,
     "metadata": {},
     "output_type": "execute_result"
    }
   ],
   "source": [
    "list1 = []\n",
    "for i in range(6):\n",
    "    input1 = input(\"Enter element: \")\n",
    "    list1.append(input1)\n",
    "\n",
    "list1"
   ]
  },
  {
   "cell_type": "markdown",
   "metadata": {},
   "source": []
  }
 ],
 "metadata": {
  "kernelspec": {
   "display_name": "Python 3.8.10 64-bit (windows store)",
   "language": "python",
   "name": "python3"
  },
  "language_info": {
   "codemirror_mode": {
    "name": "ipython",
    "version": 3
   },
   "file_extension": ".py",
   "mimetype": "text/x-python",
   "name": "python",
   "nbconvert_exporter": "python",
   "pygments_lexer": "ipython3",
   "version": "3.8.10"
  },
  "orig_nbformat": 4,
  "vscode": {
   "interpreter": {
    "hash": "ac4bf51aad2b6257eb3b8d9b68fccd0a6850f0623baea5d87ff3dc3e173853f7"
   }
  }
 },
 "nbformat": 4,
 "nbformat_minor": 2
}
