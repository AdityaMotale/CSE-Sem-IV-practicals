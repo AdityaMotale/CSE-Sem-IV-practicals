{
 "cells": [
  {
   "cell_type": "markdown",
   "metadata": {},
   "source": [
    "## Types of Functions"
   ]
  },
  {
   "cell_type": "markdown",
   "metadata": {},
   "source": [
    "### Type 1"
   ]
  },
  {
   "cell_type": "code",
   "execution_count": 10,
   "metadata": {},
   "outputs": [
    {
     "name": "stdout",
     "output_type": "stream",
     "text": [
      "Square of 3 is 9\n"
     ]
    }
   ],
   "source": [
    "def calcSquare():\n",
    "    val = int(input(\"Enter any int value: \"))\n",
    "    square = val * val\n",
    "    print(\"Square of\", val, \"is\", square)\n",
    "\n",
    "calcSquare()"
   ]
  },
  {
   "cell_type": "markdown",
   "metadata": {},
   "source": [
    "### Type 2"
   ]
  },
  {
   "cell_type": "code",
   "execution_count": 11,
   "metadata": {},
   "outputs": [
    {
     "name": "stdout",
     "output_type": "stream",
     "text": [
      "Square of 4 is 16\n"
     ]
    }
   ],
   "source": [
    "value = int(input(\"Enter any int value: \"))\n",
    "\n",
    "def calcSquareByVal(val):\n",
    "    square = val * value\n",
    "    print(\"Square of\", val, \"is\", square)\n",
    "\n",
    "calcSquareByVal(value)\n"
   ]
  },
  {
   "cell_type": "markdown",
   "metadata": {},
   "source": [
    "### Type 3"
   ]
  },
  {
   "cell_type": "code",
   "execution_count": 12,
   "metadata": {},
   "outputs": [
    {
     "name": "stdout",
     "output_type": "stream",
     "text": [
      "Square of 4 is 16\n"
     ]
    }
   ],
   "source": [
    "value = int(input(\"Enter any int value: \"))\n",
    "\n",
    "\n",
    "def calcSquareByVal(val):\n",
    "    square = val * value\n",
    "    return square\n",
    "\n",
    "square = calcSquareByVal(value)\n",
    "print(\"Square of\", value, \"is\", square)\n"
   ]
  },
  {
   "cell_type": "markdown",
   "metadata": {},
   "source": [
    "### Type 4"
   ]
  },
  {
   "cell_type": "code",
   "execution_count": 33,
   "metadata": {},
   "outputs": [
    {
     "name": "stdout",
     "output_type": "stream",
     "text": [
      "Value is: 9 Square is 81 and Cube is 729\n"
     ]
    }
   ],
   "source": [
    "def getIntInput():\n",
    "    try:\n",
    "        value = int(input(\"Enter any integer value: \"))\n",
    "        return value\n",
    "    except ValueError:\n",
    "        print(\"Please enter a valid integer value\")\n",
    "        \n",
    "\n",
    "\n",
    "def getSquare(value):\n",
    "    return value*value\n",
    "\n",
    "\n",
    "def getCube(squareVal, value):\n",
    "    return value*squareVal\n",
    "\n",
    "value = getIntInput()\n",
    "square = getSquare(value)\n",
    "cube = getCube(square, value)\n",
    "\n",
    "print(\"Value is:\",value, \"Square is\", square, \"and Cube is\", cube)"
   ]
  },
  {
   "cell_type": "markdown",
   "metadata": {},
   "source": [
    "## Calculating factors of a number and Checking if it is a perfect number\n",
    "\n",
    "> Step 1\n",
    "<br>\n",
    "- Find the factors\n",
    "> Step 2\n",
    "<br>\n",
    "- Add the factors \n",
    "> Step 3  \n",
    "- If sum of factors is equal to original val then it is a `perfect` number"
   ]
  },
  {
   "cell_type": "code",
   "execution_count": 1,
   "metadata": {},
   "outputs": [],
   "source": [
    "def checkAndGetIntInput():\n",
    "    while True:\n",
    "        try:\n",
    "            value = int(input(\"Enter any integer value: \"))\n",
    "            return value\n",
    "            break\n",
    "        except:\n",
    "            print(\"Enter a valid int value\")"
   ]
  },
  {
   "cell_type": "code",
   "execution_count": 57,
   "metadata": {},
   "outputs": [
    {
     "name": "stdout",
     "output_type": "stream",
     "text": [
      "Enter a valid int value\n",
      "Factors of the 9 are [1, 3]\n",
      "Sum of factors of 9 is 3\n",
      "Given number 9 is not Perfect Number\n"
     ]
    }
   ],
   "source": [
    "\n",
    "        \n",
    "factors = []\n",
    "## Get Input of number\n",
    "val = checkAndGetIntInput()\n",
    "n = 1\n",
    "sum = 0\n",
    "\n",
    "while (n < val):\n",
    "    if (val % n == 0 ):\n",
    "        factors.append(n)\n",
    "    n  += 1\n",
    "\n",
    "print(\"Factors of the\", val, \"are\", factors)\n",
    "\n",
    "for n in range(len(factors)+ 1):\n",
    "    sum += n\n",
    "\n",
    "print(\"Sum of factors of\", val,\"is\", sum)\n",
    "\n",
    "if (val == sum):\n",
    "    print(\"Given number\", val, \"is Perfect Number\")\n",
    "else:\n",
    "    print(\"Given number\", val, \"is not Perfect Number\")\n"
   ]
  },
  {
   "cell_type": "markdown",
   "metadata": {},
   "source": [
    "### Calculate the Factorial of a number"
   ]
  },
  {
   "cell_type": "code",
   "execution_count": 22,
   "metadata": {},
   "outputs": [
    {
     "name": "stdout",
     "output_type": "stream",
     "text": [
      "1\n"
     ]
    },
    {
     "ename": "TypeError",
     "evalue": "unsupported operand type(s) for *: 'int' and 'NoneType'",
     "output_type": "error",
     "traceback": [
      "\u001b[1;31m---------------------------------------------------------------------------\u001b[0m",
      "\u001b[1;31mTypeError\u001b[0m                                 Traceback (most recent call last)",
      "\u001b[1;32mc:\\dev\\ppl\\functions\\types_of_functions.ipynb Cell 14'\u001b[0m in \u001b[0;36m<module>\u001b[1;34m\u001b[0m\n\u001b[0;32m     <a href='vscode-notebook-cell:/c%3A/dev/ppl/functions/types_of_functions.ipynb#ch0000012?line=10'>11</a>\u001b[0m     \u001b[39melse\u001b[39;00m:\n\u001b[0;32m     <a href='vscode-notebook-cell:/c%3A/dev/ppl/functions/types_of_functions.ipynb#ch0000012?line=11'>12</a>\u001b[0m          \u001b[39mprint\u001b[39m(fact)\n\u001b[1;32m---> <a href='vscode-notebook-cell:/c%3A/dev/ppl/functions/types_of_functions.ipynb#ch0000012?line=13'>14</a>\u001b[0m calcFact(value)\n",
      "\u001b[1;32mc:\\dev\\ppl\\functions\\types_of_functions.ipynb Cell 14'\u001b[0m in \u001b[0;36mcalcFact\u001b[1;34m(value)\u001b[0m\n\u001b[0;32m      <a href='vscode-notebook-cell:/c%3A/dev/ppl/functions/types_of_functions.ipynb#ch0000012?line=5'>6</a>\u001b[0m n \u001b[39m=\u001b[39m val\n\u001b[0;32m      <a href='vscode-notebook-cell:/c%3A/dev/ppl/functions/types_of_functions.ipynb#ch0000012?line=6'>7</a>\u001b[0m \u001b[39mif\u001b[39;00m ( val \u001b[39m>\u001b[39m \u001b[39m0\u001b[39m):\n\u001b[1;32m----> <a href='vscode-notebook-cell:/c%3A/dev/ppl/functions/types_of_functions.ipynb#ch0000012?line=7'>8</a>\u001b[0m     fact \u001b[39m=\u001b[39m n \u001b[39m*\u001b[39m calcFact(value \u001b[39m-\u001b[39;49m \u001b[39m1\u001b[39;49m)\n\u001b[0;32m      <a href='vscode-notebook-cell:/c%3A/dev/ppl/functions/types_of_functions.ipynb#ch0000012?line=8'>9</a>\u001b[0m     n \u001b[39m=\u001b[39m val\n\u001b[0;32m     <a href='vscode-notebook-cell:/c%3A/dev/ppl/functions/types_of_functions.ipynb#ch0000012?line=9'>10</a>\u001b[0m     val \u001b[39m-\u001b[39m\u001b[39m=\u001b[39m \u001b[39m1\u001b[39m\n",
      "\u001b[1;32mc:\\dev\\ppl\\functions\\types_of_functions.ipynb Cell 14'\u001b[0m in \u001b[0;36mcalcFact\u001b[1;34m(value)\u001b[0m\n\u001b[0;32m      <a href='vscode-notebook-cell:/c%3A/dev/ppl/functions/types_of_functions.ipynb#ch0000012?line=5'>6</a>\u001b[0m n \u001b[39m=\u001b[39m val\n\u001b[0;32m      <a href='vscode-notebook-cell:/c%3A/dev/ppl/functions/types_of_functions.ipynb#ch0000012?line=6'>7</a>\u001b[0m \u001b[39mif\u001b[39;00m ( val \u001b[39m>\u001b[39m \u001b[39m0\u001b[39m):\n\u001b[1;32m----> <a href='vscode-notebook-cell:/c%3A/dev/ppl/functions/types_of_functions.ipynb#ch0000012?line=7'>8</a>\u001b[0m     fact \u001b[39m=\u001b[39m n \u001b[39m*\u001b[39m calcFact(value \u001b[39m-\u001b[39;49m \u001b[39m1\u001b[39;49m)\n\u001b[0;32m      <a href='vscode-notebook-cell:/c%3A/dev/ppl/functions/types_of_functions.ipynb#ch0000012?line=8'>9</a>\u001b[0m     n \u001b[39m=\u001b[39m val\n\u001b[0;32m     <a href='vscode-notebook-cell:/c%3A/dev/ppl/functions/types_of_functions.ipynb#ch0000012?line=9'>10</a>\u001b[0m     val \u001b[39m-\u001b[39m\u001b[39m=\u001b[39m \u001b[39m1\u001b[39m\n",
      "\u001b[1;32mc:\\dev\\ppl\\functions\\types_of_functions.ipynb Cell 14'\u001b[0m in \u001b[0;36mcalcFact\u001b[1;34m(value)\u001b[0m\n\u001b[0;32m      <a href='vscode-notebook-cell:/c%3A/dev/ppl/functions/types_of_functions.ipynb#ch0000012?line=5'>6</a>\u001b[0m n \u001b[39m=\u001b[39m val\n\u001b[0;32m      <a href='vscode-notebook-cell:/c%3A/dev/ppl/functions/types_of_functions.ipynb#ch0000012?line=6'>7</a>\u001b[0m \u001b[39mif\u001b[39;00m ( val \u001b[39m>\u001b[39m \u001b[39m0\u001b[39m):\n\u001b[1;32m----> <a href='vscode-notebook-cell:/c%3A/dev/ppl/functions/types_of_functions.ipynb#ch0000012?line=7'>8</a>\u001b[0m     fact \u001b[39m=\u001b[39m n \u001b[39m*\u001b[39;49m calcFact(value \u001b[39m-\u001b[39;49m \u001b[39m1\u001b[39;49m)\n\u001b[0;32m      <a href='vscode-notebook-cell:/c%3A/dev/ppl/functions/types_of_functions.ipynb#ch0000012?line=8'>9</a>\u001b[0m     n \u001b[39m=\u001b[39m val\n\u001b[0;32m     <a href='vscode-notebook-cell:/c%3A/dev/ppl/functions/types_of_functions.ipynb#ch0000012?line=9'>10</a>\u001b[0m     val \u001b[39m-\u001b[39m\u001b[39m=\u001b[39m \u001b[39m1\u001b[39m\n",
      "\u001b[1;31mTypeError\u001b[0m: unsupported operand type(s) for *: 'int' and 'NoneType'"
     ]
    }
   ],
   "source": [
    "value = checkAndGetIntInput()\n",
    "\n",
    "def calcFact(value):\n",
    "    fact = 1\n",
    "    val = value\n",
    "    n = val\n",
    "    if ( val > 0):\n",
    "        fact = n * calcFact(value - 1)\n",
    "        n = val\n",
    "        val -= 1\n",
    "    else:\n",
    "         print(fact)\n",
    "\n",
    "calcFact(value)\n"
   ]
  }
 ],
 "metadata": {
  "interpreter": {
   "hash": "ac4bf51aad2b6257eb3b8d9b68fccd0a6850f0623baea5d87ff3dc3e173853f7"
  },
  "kernelspec": {
   "display_name": "Python 3.8.10 64-bit (windows store)",
   "language": "python",
   "name": "python3"
  },
  "language_info": {
   "codemirror_mode": {
    "name": "ipython",
    "version": 3
   },
   "file_extension": ".py",
   "mimetype": "text/x-python",
   "name": "python",
   "nbconvert_exporter": "python",
   "pygments_lexer": "ipython3",
   "version": "3.8.10"
  },
  "orig_nbformat": 4
 },
 "nbformat": 4,
 "nbformat_minor": 2
}
