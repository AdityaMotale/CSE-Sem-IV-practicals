{
 "cells": [
  {
   "cell_type": "markdown",
   "metadata": {},
   "source": [
    "## Program to print alternate numbers from start to end. Take the values of start and end from user. Determine whether printed numbers are even or odd"
   ]
  },
  {
   "cell_type": "code",
   "execution_count": 1,
   "metadata": {},
   "outputs": [
    {
     "name": "stdout",
     "output_type": "stream",
     "text": [
      "Even Numbers are:  \n",
      "\n",
      "Odd numbers are:  \n",
      " [3, 5, 7, 9]\n",
      "Even numbers are:  \n",
      " [2, 4, 6, 8]\n",
      "Sum of numbers is:  44\n"
     ]
    }
   ],
   "source": [
    "start = int(input(\"Enter the start of range: \"))\n",
    "end = int(input(\"Enter the end of range: \"))\n",
    "\n",
    "even = []\n",
    "odd = []\n",
    "\n",
    "def printEvenAndOdd(start: int, end: int):\n",
    "    temp_var = start\n",
    "    sum = 0\n",
    "    print(\"Even Numbers are: \", '\\n')\n",
    "\n",
    "    while (temp_var <= end):\n",
    "        if (temp_var % 2 == 0):\n",
    "            even.append(temp_var)\n",
    "        else:\n",
    "            odd.append(temp_var)\n",
    "        sum += temp_var\n",
    "        temp_var += 1\n",
    "\n",
    "    print(\"Odd numbers are: \", '\\n', odd)\n",
    "    print(\"Even numbers are: \", '\\n', even)\n",
    "    print(\"Sum of numbers is: \", sum)\n",
    "\n",
    "\n",
    "printEvenAndOdd(start, end)\n"
   ]
  },
  {
   "cell_type": "code",
   "execution_count": null,
   "metadata": {},
   "outputs": [],
   "source": []
  },
  {
   "cell_type": "markdown",
   "metadata": {},
   "source": [
    "## Program to take a number from user and find sum of all its digits."
   ]
  },
  {
   "cell_type": "code",
   "execution_count": 3,
   "metadata": {},
   "outputs": [
    {
     "data": {
      "text/plain": [
       "7"
      ]
     },
     "execution_count": 3,
     "metadata": {},
     "output_type": "execute_result"
    }
   ],
   "source": [
    "def addNum(num):\n",
    "    sum = 0\n",
    "    while (num > 0):\n",
    "        digit = num % 10\n",
    "        num = num // 10\n",
    "        sum = sum + digit\n",
    "    return sum\n",
    "\n",
    "addNum(int(input(\"Enter any integer value: \")))"
   ]
  },
  {
   "cell_type": "markdown",
   "metadata": {},
   "source": [
    "## Program to take a number from user and find its reverse."
   ]
  },
  {
   "cell_type": "code",
   "execution_count": 4,
   "metadata": {},
   "outputs": [
    {
     "name": "stdout",
     "output_type": "stream",
     "text": [
      "432\n"
     ]
    }
   ],
   "source": [
    "def reverseNumbers(num):\n",
    "    n = num\n",
    "    sum = 0\n",
    "    while (n > 0):\n",
    "        digit = n % 10\n",
    "        n = n // 10\n",
    "        sum = (sum * 10) + digit\n",
    "    print(sum)\n",
    "\n",
    "\n",
    "reverseNumbers(int(input(\"Enter any integer value: \")))"
   ]
  },
  {
   "cell_type": "markdown",
   "metadata": {},
   "source": [
    "## Program to check whether a given number is a palindrome or not."
   ]
  },
  {
   "cell_type": "code",
   "execution_count": 6,
   "metadata": {},
   "outputs": [
    {
     "name": "stdout",
     "output_type": "stream",
     "text": [
      "Int is not a palindrome\n"
     ]
    }
   ],
   "source": [
    "def checkIfPalindrome(num, sum):\n",
    "    if (num == sum):\n",
    "        print(\"Int is palindrome\")\n",
    "    else:\n",
    "        print(\"Int is not a palindrome\")\n",
    "\n",
    "num = int(input(\"Enter any integer: \"))\n",
    "sum = addNum(num)\n",
    "\n",
    "checkIfPalindrome(num, sum)"
   ]
  },
  {
   "cell_type": "markdown",
   "metadata": {},
   "source": [
    "## Program to find whether a given number is prime or not."
   ]
  },
  {
   "cell_type": "code",
   "execution_count": 7,
   "metadata": {},
   "outputs": [
    {
     "name": "stdout",
     "output_type": "stream",
     "text": [
      "Number is not prime\n"
     ]
    }
   ],
   "source": [
    "def checkIfPrime(num):\n",
    "    for n in range(2, num):\n",
    "        if (num % n == 0):\n",
    "            print(\"Number is not prime\")\n",
    "            break\n",
    "    else:\n",
    "        print(\"Number is prime\")\n",
    "\n",
    "\n",
    "checkIfPrime(num)"
   ]
  }
 ],
 "metadata": {
  "kernelspec": {
   "display_name": "Python 3.8.10 64-bit (windows store)",
   "language": "python",
   "name": "python3"
  },
  "language_info": {
   "codemirror_mode": {
    "name": "ipython",
    "version": 3
   },
   "file_extension": ".py",
   "mimetype": "text/x-python",
   "name": "python",
   "nbconvert_exporter": "python",
   "pygments_lexer": "ipython3",
   "version": "3.8.10"
  },
  "orig_nbformat": 4,
  "vscode": {
   "interpreter": {
    "hash": "ac4bf51aad2b6257eb3b8d9b68fccd0a6850f0623baea5d87ff3dc3e173853f7"
   }
  }
 },
 "nbformat": 4,
 "nbformat_minor": 2
}
