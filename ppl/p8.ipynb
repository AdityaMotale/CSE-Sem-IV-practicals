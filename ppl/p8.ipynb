{
 "cells": [
  {
   "cell_type": "markdown",
   "metadata": {},
   "source": [
    "## Program to map two lists into a dictionary"
   ]
  },
  {
   "cell_type": "code",
   "execution_count": 1,
   "metadata": {},
   "outputs": [
    {
     "data": {
      "text/plain": [
       "{'red': '#FF0000', 'green': '#008000', 'blue': '#0000FF'}"
      ]
     },
     "execution_count": 1,
     "metadata": {},
     "output_type": "execute_result"
    }
   ],
   "source": [
    "keys = ['red', 'green', 'blue']\n",
    "values = ['#FF0000', '#008000', '#0000FF']\n",
    "color_dictionary = dict(zip(keys, values))\n",
    "\n",
    "color_dictionary"
   ]
  },
  {
   "cell_type": "markdown",
   "metadata": {},
   "source": [
    "## Program to count the frequency of words appearing in a string using a dictionary. "
   ]
  },
  {
   "cell_type": "code",
   "execution_count": 7,
   "metadata": {},
   "outputs": [
    {
     "data": {
      "text/plain": [
       "{'Never': 1,\n",
       " 'let': 1,\n",
       " 'a': 2,\n",
       " 'stumble': 1,\n",
       " 'in': 1,\n",
       " 'road': 1,\n",
       " 'be': 1,\n",
       " 'the': 2,\n",
       " 'reason': 1,\n",
       " 'to': 1,\n",
       " 'end': 1,\n",
       " 'journey': 1}"
      ]
     },
     "execution_count": 7,
     "metadata": {},
     "output_type": "execute_result"
    }
   ],
   "source": [
    "str_1 = \"Never let a stumble in a road be the reason to end the journey\"\n",
    "l=[]\n",
    "l=str_1.split()\n",
    "wordFreq=[l.count(p) for p in l]\n",
    "\n",
    "dict(zip(l,wordFreq))"
   ]
  },
  {
   "cell_type": "markdown",
   "metadata": {},
   "source": [
    "## Program to create a dictionary with key as first character and value as words starting with that character"
   ]
  },
  {
   "cell_type": "code",
   "execution_count": 9,
   "metadata": {},
   "outputs": [
    {
     "data": {
      "text/plain": [
       "{'F': ['Friendship'],\n",
       " '.': ['...'],\n",
       " 'i': ['is'],\n",
       " 'b': ['born', 'but'],\n",
       " 'a': ['at', 'another'],\n",
       " 't': ['the', 'to', 'too?', 'thought', 'that'],\n",
       " 'm': ['moment', 'man', 'myself'],\n",
       " 'w': ['when'],\n",
       " 'o': ['one'],\n",
       " 's': ['says'],\n",
       " '\"': ['\"What!'],\n",
       " 'Y': ['You'],\n",
       " 'I': ['I'],\n",
       " 'n': ['no']}"
      ]
     },
     "execution_count": 9,
     "metadata": {},
     "output_type": "execute_result"
    }
   ],
   "source": [
    "string_input = '''Friendship ... is born at the moment when one man says to another \"What! You too? I thought that no one but myself ...'''\n",
    "\n",
    "words = string_input.split()\n",
    "\n",
    "dictionary = {}\n",
    "\n",
    "for word in words:\n",
    "\n",
    "    if (word[0] not in dictionary.keys()):\n",
    "        dictionary[word[0]] = []\n",
    "        dictionary[word[0]].append(word)\n",
    "\n",
    "    else:\n",
    "        if (word not in dictionary[word[0]]):\n",
    "            dictionary[word[0]].append(word)\n",
    "\n",
    "dictionary"
   ]
  }
 ],
 "metadata": {
  "kernelspec": {
   "display_name": "Python 3.8.10 64-bit (windows store)",
   "language": "python",
   "name": "python3"
  },
  "language_info": {
   "codemirror_mode": {
    "name": "ipython",
    "version": 3
   },
   "file_extension": ".py",
   "mimetype": "text/x-python",
   "name": "python",
   "nbconvert_exporter": "python",
   "pygments_lexer": "ipython3",
   "version": "3.8.10"
  },
  "orig_nbformat": 4,
  "vscode": {
   "interpreter": {
    "hash": "ac4bf51aad2b6257eb3b8d9b68fccd0a6850f0623baea5d87ff3dc3e173853f7"
   }
  }
 },
 "nbformat": 4,
 "nbformat_minor": 2
}
