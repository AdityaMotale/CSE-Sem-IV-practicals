{
 "cells": [
  {
   "cell_type": "markdown",
   "metadata": {},
   "source": [
    "## Program to determine whether a given input is even or odd.\n"
   ]
  },
  {
   "cell_type": "code",
   "execution_count": 1,
   "metadata": {},
   "outputs": [
    {
     "name": "stdout",
     "output_type": "stream",
     "text": [
      "Name- Aditya Motale\n",
      "234  is even\n"
     ]
    }
   ],
   "source": [
    "print(\"Name- Aditya Motale\")\n",
    "num = int(input(\"Enter any number to test:\"))\n",
    "if (num % 2 == 0):\n",
    "    print(num, \" is even\")\n",
    "else:\n",
    "    print(num, \" is odd\")\n"
   ]
  },
  {
   "cell_type": "markdown",
   "metadata": {},
   "source": [
    "## Program to check whether the triangle is equilateral, isosceles or scalene"
   ]
  },
  {
   "cell_type": "code",
   "execution_count": 4,
   "metadata": {},
   "outputs": [
    {
     "name": "stdout",
     "output_type": "stream",
     "text": [
      "Name- Aditya Motale\n",
      "Input lengths of the triangle sides: \n",
      "isosceles triangle\n"
     ]
    }
   ],
   "source": [
    "print(\"Name- Aditya Motale\")\n",
    "print(\"Input lengths of the triangle sides: \")\n",
    "x = int(input(\"x: \"))\n",
    "y = int(input(\"y: \"))\n",
    "z = int(input(\"z: \"))\n",
    "\n",
    "if x == y == z:\n",
    "\tprint(\"Equilateral triangle\")\n",
    "elif x == y or y == z or z == x:\n",
    "\tprint(\"isosceles triangle\")\n",
    "else:\n",
    "\tprint(\"Scalene triangle\")"
   ]
  },
  {
   "cell_type": "markdown",
   "metadata": {},
   "source": [
    "## Program to take three subject marks from user, calculate the percentage and determine the class as distinction, first class, second class, pass or fail)"
   ]
  },
  {
   "cell_type": "code",
   "execution_count": 3,
   "metadata": {},
   "outputs": [
    {
     "name": "stdout",
     "output_type": "stream",
     "text": [
      "Name- Aditya Motale\n",
      "Grade: B\n"
     ]
    }
   ],
   "source": [
    "print(\"Name- Aditya Motale\")\n",
    "sub1 = int(input(\"Enter marks of the first subject: \"))\n",
    "sub2 = int(input(\"Enter marks of the second subject: \"))\n",
    "sub3 = int(input(\"Enter marks of the third subject: \"))\n",
    "sub4 = int(input(\"Enter marks of the fourth subject: \"))\n",
    "sub5 = int(input(\"Enter marks of the fifth subject: \"))\n",
    "avg = int((sub1+sub2+sub3+sub4+sub4)/5)\n",
    "if(avg >= 90):\n",
    "    print(\"Grade: A\")\n",
    "elif(avg >= 80 & avg < 90):\n",
    "    print(\"Grade: B\")\n",
    "elif(avg >= 70 & avg < 80):\n",
    "    print(\"Grade: C\")\n",
    "elif(avg >= 60 & avg < 70):\n",
    "    print(\"Grade: D\")\n",
    "else:\n",
    "    print(\"Grade: F\")\n"
   ]
  },
  {
   "cell_type": "markdown",
   "metadata": {},
   "source": [
    "## Program to find largest among three numbers."
   ]
  },
  {
   "cell_type": "code",
   "execution_count": 2,
   "metadata": {},
   "outputs": [
    {
     "name": "stdout",
     "output_type": "stream",
     "text": [
      "Name- Aditya Motale\n",
      "The largest number is 14\n"
     ]
    }
   ],
   "source": [
    "print(\"Name- Aditya Motale\")\n",
    "num1 = 10\n",
    "num2 = 14\n",
    "num3 = 12\n",
    "\n",
    "if (num1 >= num2) and (num1 >= num3):\n",
    "   largest = num1\n",
    "elif (num2 >= num1) and (num2 >= num3):\n",
    "   largest = num2\n",
    "else:\n",
    "   largest = num3\n",
    "\n",
    "print(\"The largest number is\", largest)\n"
   ]
  }
 ],
 "metadata": {
  "kernelspec": {
   "display_name": "Python 3.8.10 64-bit (windows store)",
   "language": "python",
   "name": "python3"
  },
  "language_info": {
   "codemirror_mode": {
    "name": "ipython",
    "version": 3
   },
   "file_extension": ".py",
   "mimetype": "text/x-python",
   "name": "python",
   "nbconvert_exporter": "python",
   "pygments_lexer": "ipython3",
   "version": "3.8.10"
  },
  "orig_nbformat": 4,
  "vscode": {
   "interpreter": {
    "hash": "ac4bf51aad2b6257eb3b8d9b68fccd0a6850f0623baea5d87ff3dc3e173853f7"
   }
  }
 },
 "nbformat": 4,
 "nbformat_minor": 2
}
